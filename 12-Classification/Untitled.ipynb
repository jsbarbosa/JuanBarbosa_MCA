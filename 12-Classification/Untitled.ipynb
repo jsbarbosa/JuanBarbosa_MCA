{
 "cells": [
  {
   "cell_type": "code",
   "execution_count": 18,
   "metadata": {
    "collapsed": false
   },
   "outputs": [],
   "source": [
    "from sklearn.ensemble import RandomForestClassifier\n",
    "import numpy as np\n",
    "\n",
    "def load_from_sparsed(name, samples = 800, attributes = 100000):\n",
    "    matrix = -1*np.ones((samples, attributes))\n",
    "    with open(name, \"r\") as f:\n",
    "        for (i, line) in enumerate(f):\n",
    "            temp = f.readline()\n",
    "            temp = temp.split(\" \")\n",
    "            index = [int(value)-1 for value in temp[:-1]]\n",
    "            matrix[i, index] = 1\n",
    "    return matrix\n",
    "\n",
    "completeT = load_from_sparsed(\"dorothea_train.data\")\n",
    "completeC = np.genfromtxt(\"dorothea_train.labels\")\n",
    "\n",
    "indp = completeC == 1\n",
    "posT = completeT[indp,:]\n",
    "posC = completeC[indp]\n",
    "negT = completeT[np.logical_not(indp),:]\n",
    "negC = completeC[np.logical_not(indp)]\n",
    "\n",
    "\n",
    "# rfc = RandomForestClassifier(n_estimators=500, n_jobs = -1)\n",
    "\n",
    "# rfc.fit(training, classified)\n",
    "\n",
    "\n",
    "# \"\"\"\n",
    "#     Saves forest\n",
    "# \"\"\"\n",
    "# import pickle\n",
    "\n",
    "# with open('forest.pkl', 'wb') as f:\n",
    "#     pickle.dump(rf, f)"
   ]
  },
  {
   "cell_type": "code",
   "execution_count": 223,
   "metadata": {
    "collapsed": false
   },
   "outputs": [],
   "source": [
    "np.random.shuffle(negT)\n",
    "new_train = np.concatenate((posT,negT[:90]))\n",
    "new_class = np.concatenate((posC,negC[:90]))\n",
    "\n",
    "valid = load_from_sparsed(\"dorothea_valid.data\")\n",
    "testing = load_from_sparsed(\"dorothea_test.data\")"
   ]
  },
  {
   "cell_type": "code",
   "execution_count": 215,
   "metadata": {
    "collapsed": false
   },
   "outputs": [
    {
     "data": {
      "text/plain": [
       "RandomForestClassifier(bootstrap=True, class_weight=None, criterion='gini',\n",
       "            max_depth=None, max_features='auto', max_leaf_nodes=None,\n",
       "            min_impurity_split=1e-07, min_samples_leaf=1,\n",
       "            min_samples_split=2, min_weight_fraction_leaf=0.0,\n",
       "            n_estimators=200, n_jobs=-1, oob_score=False,\n",
       "            random_state=None, verbose=0, warm_start=False)"
      ]
     },
     "execution_count": 215,
     "metadata": {},
     "output_type": "execute_result"
    }
   ],
   "source": [
    "# rfc = RandomForestClassifier(n_estimators=200, n_jobs = -1)\n",
    "\n",
    "# rfc.fit(new_train, new_class)"
   ]
  },
  {
   "cell_type": "code",
   "execution_count": 216,
   "metadata": {
    "collapsed": false
   },
   "outputs": [],
   "source": [
    "predictions = rfc.predict(completeT)"
   ]
  },
  {
   "cell_type": "code",
   "execution_count": 217,
   "metadata": {
    "collapsed": false
   },
   "outputs": [
    {
     "data": {
      "text/plain": [
       "[<matplotlib.lines.Line2D at 0x25a30b48f98>]"
      ]
     },
     "execution_count": 217,
     "metadata": {},
     "output_type": "execute_result"
    },
    {
     "data": {
      "image/png": "[encoded data removed]",
      "text/plain": [
       "<matplotlib.figure.Figure at 0x25a307e39e8>"
      ]
     },
     "metadata": {},
     "output_type": "display_data"
    }
   ],
   "source": [
    "import matplotlib.pyplot as plt\n",
    "%matplotlib inline\n",
    "plt.plot(completeC, predictions, \"o\")"
   ]
  },
  {
   "cell_type": "code",
   "execution_count": 218,
   "metadata": {
    "collapsed": false
   },
   "outputs": [
    {
     "name": "stdout",
     "output_type": "stream",
     "text": [
      "0.551282051282\n",
      "0.919667590028\n",
      "0.88375\n"
     ]
    }
   ],
   "source": [
    "print(rfc.score(posT,posC))\n",
    "print(rfc.score(negT,negC))\n",
    "print(rfc.score(completeT,completeC))"
   ]
  },
  {
   "cell_type": "code",
   "execution_count": 219,
   "metadata": {
    "collapsed": false
   },
   "outputs": [],
   "source": [
    "# \"\"\"\n",
    "#     Saves forest\n",
    "# \"\"\"\n",
    "# import pickle\n",
    "\n",
    "# with open('forest.pkl', 'wb') as f:\n",
    "#     pickle.dump(rfc, f)"
   ]
  },
  {
   "cell_type": "code",
   "execution_count": 221,
   "metadata": {
    "collapsed": false
   },
   "outputs": [
    {
     "name": "stdout",
     "output_type": "stream",
     "text": [
      "68\n",
      "25\n"
     ]
    }
   ],
   "source": [
    "def count_pos(Y):\n",
    "    ind = Y > 0\n",
    "    posi = Y[ind]\n",
    "    return posi.shape[0]\n",
    "\n",
    "testp = rfc.predict(testing)\n",
    "print(count_pos(testp))\n",
    "validp = rfc.predict(valid)\n",
    "print(count_pos(validp))"
   ]
  },
  {
   "cell_type": "code",
   "execution_count": 185,
   "metadata": {
    "collapsed": false
   },
   "outputs": [],
   "source": [
    "# rfcp = pickle.load(open('forest.pkl','rb'))"
   ]
  },
  {
   "cell_type": "code",
   "execution_count": 186,
   "metadata": {
    "collapsed": false
   },
   "outputs": [
    {
     "name": "stdout",
     "output_type": "stream",
     "text": [
      "0\n"
     ]
    }
   ],
   "source": [
    "# testi = rfcp.predict(testing)\n",
    "# print(count_pos(testi))"
   ]
  },
  {
   "cell_type": "code",
   "execution_count": 222,
   "metadata": {
    "collapsed": true
   },
   "outputs": [],
   "source": [
    "\"\"\"\n",
    "    Saves forest\n",
    "\"\"\"\n",
    "import pickle\n",
    "\n",
    "with open('forest.pkl', 'wb') as f:\n",
    "    pickle.dump(rfc, f)"
   ]
  },
  {
   "cell_type": "code",
   "execution_count": null,
   "metadata": {
    "collapsed": false
   },
   "outputs": [
    {
     "name": "stdout",
     "output_type": "stream",
     "text": [
      "0\n",
      "1\n",
      "2\n",
      "3\n",
      "4\n",
      "5\n",
      "6\n",
      "7\n",
      "8\n",
      "9\n",
      "10\n",
      "11\n",
      "12\n",
      "13\n",
      "14\n",
      "15\n",
      "16\n",
      "17\n",
      "18\n",
      "19\n",
      "20\n",
      "21\n",
      "22\n",
      "23\n",
      "24\n",
      "25\n",
      "26\n",
      "27\n",
      "28\n",
      "29\n",
      "30\n",
      "31\n",
      "32\n",
      "33\n",
      "34\n",
      "35\n",
      "36\n",
      "37\n",
      "38\n",
      "39\n",
      "40\n",
      "41\n",
      "42\n",
      "43\n",
      "44\n",
      "45\n",
      "46\n",
      "47\n",
      "48\n",
      "49\n",
      "50\n",
      "51\n",
      "52\n",
      "53\n",
      "54\n",
      "55\n",
      "56\n",
      "57\n",
      "58\n",
      "59\n",
      "60\n",
      "61\n",
      "62\n",
      "63\n",
      "64\n",
      "65\n",
      "66\n"
     ]
    }
   ],
   "source": [
    "def goodness(new_train,new_class):\n",
    "    testa = np.array([])\n",
    "    valida = np.array([])\n",
    "    for i in range(100):\n",
    "        rfc = RandomForestClassifier(n_estimators=200, n_jobs = -1)\n",
    "        rfc.fit(new_train, new_class)\n",
    "        testp = rfc.predict(testing)\n",
    "        validp = rfc.predict(valid)\n",
    "        testa = np.append(testa,count_pos(testp))\n",
    "        valida = np.append(valida,count_pos(validp))\n",
    "        print(i)\n",
    "    return valida,testa\n",
    "\n",
    "valida,testa = goodness(new_train,new_class)"
   ]
  },
  {
   "cell_type": "code",
   "execution_count": null,
   "metadata": {
    "collapsed": true
   },
   "outputs": [],
   "source": []
  }
 ],
 "metadata": {
  "kernelspec": {
   "display_name": "Python 3",
   "language": "python",
   "name": "python3"
  },
  "language_info": {
   "codemirror_mode": {
    "name": "ipython",
    "version": 3
   },
   "file_extension": ".py",
   "mimetype": "text/x-python",
   "name": "python",
   "nbconvert_exporter": "python",
   "pygments_lexer": "ipython3",
   "version": "3.6.0"
  }
 },
 "nbformat": 4,
 "nbformat_minor": 2
}
